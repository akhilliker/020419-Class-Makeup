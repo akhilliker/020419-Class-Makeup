{
 "cells": [
  {
   "cell_type": "code",
   "execution_count": 3,
   "metadata": {},
   "outputs": [],
   "source": [
    "#How to create a CSV file and write to it\n",
    "#Dependencies\n",
    "import csv\n",
    "\n",
    "#Specify the file to write to\n",
    "output_path = \"new.csv\"\n",
    "\n",
    "#open the file using \"write\" mode. Specify the variable to hold the contents\n",
    "#with statement means that everything under the with statement will happen in that file while it's open\n",
    "#w means write mode\n",
    "#c\n",
    "with open(output_path, 'w', newline='') as csvfile:\n",
    "        \n",
    "        #Initialze the object csv.writer\n",
    "        csvwriter = csv.writer(csvfile, delimiter=',')\n",
    "        \n",
    "        #write the first row (column headers)\n",
    "        csvwriter.writerow(['First Name', 'Last Name','SSN'])\n",
    "        \n",
    "        #Write second row\n",
    "        csvwriter.writerow(['Caleb', 'Frost', '505-80-2901'])\n",
    "        \n",
    "        #can do math with lists; this will repeat the row 5 times (make a list of lists):\n",
    "        data = [('Caleb', 'Frost', '505-80-2901')]*5\n",
    "        #could continue with a for loop to add more data\n",
    "        for row in data:\n",
    "               csvwriter.writerow(row)"
   ]
  },
  {
   "cell_type": "code",
   "execution_count": 4,
   "metadata": {},
   "outputs": [
    {
     "data": {
      "text/plain": [
       "[(1, 'A'), (2, 'B'), (3, 'C')]"
      ]
     },
     "execution_count": 4,
     "metadata": {},
     "output_type": "execute_result"
    }
   ],
   "source": [
    "#Zipping lists: combining two lists into one; lists have to be the same size (same # of elements)\n",
    "#Indenting on this list is to make it easier to read, not required for the code\n",
    "x = zip(\n",
    "    [1, 2, 3],\n",
    "    ['A', 'B', 'C']\n",
    ")\n",
    "list(x)\n",
    "#Turns data into a \"tuple\" list"
   ]
  },
  {
   "cell_type": "code",
   "execution_count": 5,
   "metadata": {},
   "outputs": [
    {
     "name": "stdout",
     "output_type": "stream",
     "text": [
      "['h', 'a', 'l', 'i', 'b', 'u', 't']\n",
      "['h', 'a', 'l', 'i', 'b', 'u', 't']\n",
      "['H', 'A', 'L', 'I', 'B', 'U', 'T']\n",
      "['H', 'A', 'L', 'I', 'B', 'U', 'T']\n",
      "[92, 106]\n",
      "[92, 106]\n"
     ]
    }
   ],
   "source": [
    "#list comprehension\n",
    "fish = \"halibut\"\n",
    "\n",
    "# Loop through each letter in the string\n",
    "# and push to an array\n",
    "letters = []\n",
    "for letter in fish:\n",
    "    letters.append(letter)\n",
    "\n",
    "print(letters)\n",
    "\n",
    "# List comprehensions provide concise syntax for creating lists\n",
    "letters = [letter for letter in fish]\n",
    "\n",
    "print(letters)\n",
    "\n",
    "# We can manipulate each element as we go\n",
    "capital_letters = []\n",
    "for letter in fish:\n",
    "    capital_letters.append(letter.upper())\n",
    "\n",
    "print(capital_letters)\n",
    "\n",
    "# List Comprehension for the above\n",
    "capital_letters = [letter.upper() for letter in fish]\n",
    "\n",
    "print(capital_letters)\n",
    "\n",
    "# We can also add conditional logic (if statements) to a list comprehension\n",
    "july_temperatures = [87, 85, 92, 79, 106]\n",
    "hot_days = []\n",
    "for temperature in july_temperatures:\n",
    "    if temperature > 90:\n",
    "        hot_days.append(temperature)\n",
    "print(hot_days)\n",
    "\n",
    "# List Comprehension with conditional\n",
    "hot_days = [temperature for temperature in july_temperatures if temperature > 90]\n",
    "\n",
    "print(hot_days)"
   ]
  },
  {
   "cell_type": "code",
   "execution_count": 6,
   "metadata": {},
   "outputs": [
    {
     "name": "stdout",
     "output_type": "stream",
     "text": [
      "['h', 'a', 'l', 'i', 'b', 'u', 't']\n"
     ]
    }
   ],
   "source": [
    "#list comprehension\n",
    "fish = \"halibut\"\n",
    "\n",
    "# Loop through each letter in the string\n",
    "# and push to an array\n",
    "letters = []\n",
    "for letter in fish:\n",
    "    letters.append(letter)\n",
    "\n",
    "print(letters)"
   ]
  },
  {
   "cell_type": "code",
   "execution_count": 7,
   "metadata": {},
   "outputs": [
    {
     "name": "stdout",
     "output_type": "stream",
     "text": [
      "['h', 'a', 'l', 'i', 'b', 'u', 't']\n"
     ]
    }
   ],
   "source": [
    "# List comprehensions provide concise syntax for creating lists\n",
    "#variable = [variable for variable in fish variable]\n",
    "#could have letters = [i for i in fish] fish was defined\n",
    "letters = [letter for letter in fish]\n",
    "\n",
    "print(letters)"
   ]
  },
  {
   "cell_type": "code",
   "execution_count": 8,
   "metadata": {},
   "outputs": [
    {
     "name": "stdout",
     "output_type": "stream",
     "text": [
      "[92, 106]\n"
     ]
    }
   ],
   "source": [
    "# We can also add conditional logic (if statements) to a list comprehension\n",
    "july_temperatures = [87, 85, 92, 79, 106]\n",
    "hot_days = []\n",
    "for temperature in july_temperatures:\n",
    "    if temperature > 90:\n",
    "        hot_days.append(temperature)\n",
    "print(hot_days)\n",
    "\n",
    "# # List Comprehension with conditional\n",
    "# # Shorter way of writing the code above\n",
    "# hot_days = [temperature for temperature in july_temperatures if temperature > 90]\n",
    "\n",
    "# print(hot_days)"
   ]
  },
  {
   "cell_type": "code",
   "execution_count": 28,
   "metadata": {
    "collapsed": true
   },
   "outputs": [
    {
     "ename": "ValueError",
     "evalue": "I/O operation on closed file.",
     "output_type": "error",
     "traceback": [
      "\u001b[0;31m---------------------------------------------------------------------------\u001b[0m",
      "\u001b[0;31mValueError\u001b[0m                                Traceback (most recent call last)",
      "\u001b[0;32m<ipython-input-28-75ca8485611b>\u001b[0m in \u001b[0;36m<module>\u001b[0;34m\u001b[0m\n\u001b[1;32m     20\u001b[0m \u001b[0;34m\u001b[0m\u001b[0m\n\u001b[1;32m     21\u001b[0m     \u001b[0;31m#Read the header row first  and go to next row\u001b[0m\u001b[0;34m\u001b[0m\u001b[0;34m\u001b[0m\u001b[0;34m\u001b[0m\u001b[0m\n\u001b[0;32m---> 22\u001b[0;31m     \u001b[0mcsv_header\u001b[0m \u001b[0;34m=\u001b[0m \u001b[0mnext\u001b[0m\u001b[0;34m(\u001b[0m\u001b[0mcsvreader\u001b[0m\u001b[0;34m)\u001b[0m\u001b[0;34m\u001b[0m\u001b[0;34m\u001b[0m\u001b[0m\n\u001b[0m\u001b[1;32m     23\u001b[0m     \u001b[0mprint\u001b[0m\u001b[0;34m(\u001b[0m\u001b[0mcsv_header\u001b[0m\u001b[0;34m)\u001b[0m\u001b[0;34m\u001b[0m\u001b[0;34m\u001b[0m\u001b[0m\n\u001b[1;32m     24\u001b[0m     \u001b[0mnext\u001b[0m\u001b[0;34m(\u001b[0m\u001b[0mcsvreader\u001b[0m\u001b[0;34m,\u001b[0m \u001b[0;32mNone\u001b[0m\u001b[0;34m)\u001b[0m\u001b[0;34m\u001b[0m\u001b[0;34m\u001b[0m\u001b[0m\n",
      "\u001b[0;31mValueError\u001b[0m: I/O operation on closed file."
     ]
    }
   ],
   "source": [
    "# #Activity 01: Cereal files\n",
    "# #Open the file, cereal.csv and start by skipping the header row. See hints below for this.\n",
    "# #Read through the remaining rows and find the cereals that contain five grams of fiber or more, \n",
    "# #printing the data from those rows to the terminal.\n",
    "\n",
    "##Note: this is a lot of code as I was troubleshooting this seemingly \n",
    "##easy activity.  But none of it worked.  I pasted in the solution code\n",
    "##in the next cell and in a new workbook and that didn't work either.\n",
    "##Not sure of the problem.\n",
    "\n",
    "# Import module for reading CSV files\n",
    "import os\n",
    "import csv\n",
    "\n",
    "cereal = os.path.join('./cereal.csv')\n",
    "\n",
    "with open(cereal, newline=\"\") as csvfile:\n",
    "    cvsreader = csv.reader(csvfile, delimiter=\",\")\n",
    "    \n",
    "\n",
    "    #Read the header row first  and go to next row\n",
    "    csv_header = next(csvreader)\n",
    "    print(csv_header)\n",
    "    next(csvreader, None)\n",
    "    for row in csvreader:\n",
    "        if float(row[7]) >= 5:\n",
    "            print(row)\n",
    "      \n"
   ]
  },
  {
   "cell_type": "code",
   "execution_count": 18,
   "metadata": {},
   "outputs": [
    {
     "name": "stdout",
     "output_type": "stream",
     "text": [
      "\"name,mfr,type,calories,protein,fat,sodium,fiber,carbo,sugars,potass,vitamins,shelf,weight,cups,rating\"\r\n",
      "\n"
     ]
    },
    {
     "ename": "IndexError",
     "evalue": "list index out of range",
     "output_type": "error",
     "traceback": [
      "\u001b[0;31m---------------------------------------------------------------------------\u001b[0m",
      "\u001b[0;31mIndexError\u001b[0m                                Traceback (most recent call last)",
      "\u001b[0;32m<ipython-input-18-e731b4b09577>\u001b[0m in \u001b[0;36m<module>\u001b[0;34m\u001b[0m\n\u001b[1;32m     12\u001b[0m \u001b[0;34m\u001b[0m\u001b[0m\n\u001b[1;32m     13\u001b[0m     \u001b[0;32mfor\u001b[0m \u001b[0mrow\u001b[0m \u001b[0;32min\u001b[0m \u001b[0mcsvreader\u001b[0m\u001b[0;34m:\u001b[0m\u001b[0;34m\u001b[0m\u001b[0;34m\u001b[0m\u001b[0m\n\u001b[0;32m---> 14\u001b[0;31m             \u001b[0;32mif\u001b[0m \u001b[0mfloat\u001b[0m\u001b[0;34m(\u001b[0m\u001b[0mrow\u001b[0m\u001b[0;34m[\u001b[0m\u001b[0;36m7\u001b[0m\u001b[0;34m]\u001b[0m\u001b[0;34m)\u001b[0m \u001b[0;34m>=\u001b[0m\u001b[0;36m5\u001b[0m\u001b[0;34m:\u001b[0m\u001b[0;34m\u001b[0m\u001b[0;34m\u001b[0m\u001b[0m\n\u001b[0m\u001b[1;32m     15\u001b[0m                 \u001b[0mprint\u001b[0m\u001b[0;34m(\u001b[0m\u001b[0mrow\u001b[0m\u001b[0;34m)\u001b[0m\u001b[0;34m\u001b[0m\u001b[0;34m\u001b[0m\u001b[0m\n",
      "\u001b[0;31mIndexError\u001b[0m: list index out of range"
     ]
    }
   ],
   "source": [
    "#Activity 01: Cereal files\n",
    "import os\n",
    "import csv\n",
    "\n",
    "cereal = os.path.join('./cereal.csv')\n",
    "\n",
    "with open(cereal, newline=\"\") as csvfile:\n",
    "    csvreader = csv.reader(csvfile, delimiter=\",\")\n",
    "    \n",
    "    csv_header = next(csvfile)\n",
    "    print(csv_header)\n",
    "    \n",
    "    for row in csvreader:\n",
    "            if float(row[7]) >=5:\n",
    "                print(row)"
   ]
  },
  {
   "cell_type": "code",
   "execution_count": null,
   "metadata": {},
   "outputs": [],
   "source": [
    "print(name_list)"
   ]
  },
  {
   "cell_type": "code",
   "execution_count": 72,
   "metadata": {},
   "outputs": [
    {
     "name": "stdout",
     "output_type": "stream",
     "text": [
      "Please enter the name of someone you know. Phil\n",
      "Please enter the name of someone you know. odette\n",
      "Please enter the name of someone you know. MARC\n",
      "Please enter the name of someone you know. reny\n",
      "Please enter the name of someone you know. PHINNEAS\n",
      "Dear Phil, please come to the wedding this Saturday!\n",
      "Dear Odette, please come to the wedding this Saturday!\n",
      "Dear Marc, please come to the wedding this Saturday!\n",
      "Dear Reny, please come to the wedding this Saturday!\n",
      "Dear Phinneas, please come to the wedding this Saturday!\n"
     ]
    }
   ],
   "source": [
    "#Activity 05: Wedding Invitation\n",
    "\n",
    "names = []\n",
    "for _ in range(5):\n",
    "    name = input(\"Please enter the name of someone you know. \")\n",
    "    names.append(name)\n",
    "\n",
    "#Use a list comprehension to create a list of lowercased names to standardize letter case despite user input\n",
    "#note that i can be any name\n",
    "lowercased = [i.lower() for i in names]\n",
    "\n",
    "#Use a list comprehension to create a list of titlecased names; works on any string\n",
    "# https://www.tutorialspoint.com/python/string_title.htm\n",
    "titlecased = [i.title() for i in lowercased]\n",
    "\n",
    "invitations = [\n",
    "    f\"Dear {name}, please come to the wedding this Saturday!\" for name in titlecased]\n",
    "\n",
    "for invitation in invitations:\n",
    "    print(invitation)\n"
   ]
  },
  {
   "cell_type": "code",
   "execution_count": null,
   "metadata": {},
   "outputs": [],
   "source": [
    "#Functions: repeatable chunks of code\n",
    "#Centralized, don't need to keep changing things throughout program. Just change function\n",
    "#functions start with \"def\" for definition\n",
    "#you choose name\n",
    "#() are parameters of the arguement. You may not have parameters in some functions\n",
    "\n",
    "# Basic Definition\n",
    "def name(parameters):\n",
    "    # code goes here\n",
    "    return\n",
    "\n",
    "\n",
    "# Simple Function with no parameters\n",
    "def show():\n",
    "    print(f\"Hi!\")\n",
    "\n",
    "\n",
    "# You use parenthesis to run the code in a function\n",
    "show()\n",
    "#would print \"Hi!\" when run\n",
    "\n",
    "# Simple function with one parameter\n",
    "def show(message):\n",
    "    print(message)\n",
    "\n",
    "\n",
    "# Think of the parameter `message` as a variable\n",
    "# You assign the string \"Hello, World!\" when you call the function\n",
    "# This is like saying `message = \"Hello, World!\"`\n",
    "show(\"Hello, World!\")\n",
    "\n",
    "\n",
    "# Functions can have more than one parameter\n",
    "def make_quesadilla(protein, topping):\n",
    "    quesadilla = f\"Here is a {protein} quesadilla with {topping}\"\n",
    "    print(quesadilla)\n",
    "\n",
    "\n",
    "# Supply the arguments (values) when calling the function\n",
    "make_quesadilla(\"beef\", \"guacamole\")\n",
    "#Prints Here is a beef quesadilla with guacamole\n",
    "make_quesadilla(\"chicken\", \"salsa\")\n",
    "#Prints Here is a chicken quesadilla with salsa\n",
    "\n",
    "# @NOTE: Order is important when supplying arguments!\n",
    "make_quesadilla(\"sour cream\", \"beef\")\n",
    "#Prints Here is a sour cream quesadilla with beef\n",
    "\n",
    "# We can also specify default values for parameters\n",
    "def make_quesadilla(protein, topping=\"sour cream\"):\n",
    "    quesadilla = f\"Here is a {protein} quesadilla with {topping}\"\n",
    "    print(quesadilla)\n",
    "\n",
    "\n",
    "# Make a quesadilla using the default topping\n",
    "make_quesadilla(\"chicken\")\n",
    "#Prints Here is a chicken quesadilla with sour cream\n",
    "\n",
    "# Make a quesadilla with a new topping\n",
    "make_quesadilla(\"beef\", \"guacamole\")\n",
    "#Prints Here is a beef quesadilla with guacamole\n",
    "\n",
    "\n",
    "# Functions can return a value\n",
    "def square(number):\n",
    "    return number * number\n",
    "\n",
    "\n",
    "# You can save the value that is returned\n",
    "squared = square(2) # return 2 * 2\n",
    "print(squared)\n",
    "#prints 4\n",
    "\n",
    "# You can also just print the return value of a function\n",
    "print(square(2)) #prints 4\n",
    "print(square(3)) #prints 9"
   ]
  },
  {
   "cell_type": "code",
   "execution_count": 79,
   "metadata": {},
   "outputs": [
    {
     "name": "stdout",
     "output_type": "stream",
     "text": [
      "Hello nobody\n",
      "Hello Phil\n",
      "Hello Angie!\n"
     ]
    }
   ],
   "source": [
    "#function is called hello; parameter is set as a default of nobody\n",
    "#parameter is the input of a function\n",
    "def hello(name = \"nobody\"):\n",
    "    # code goes here; return is the end of the function and \n",
    "    # the value that is stored (output of the function)\n",
    "    return \"Hello \" + name\n",
    "\n",
    "husband = \"Phil\"\n",
    "\n",
    "#calls the function, but doesn't set parameter (), defaults to nobody\n",
    "#without print (i.e. hello()), the function is still called and outputs Hello noboy, but you don't save anything?\n",
    "print(hello())\n",
    "#calls the function and references a variable for the parameter\n",
    "print(hello(husband))\n",
    "#calls the function and the parameter is provided directly\n",
    "print(hello(\"Angie!\"))\n"
   ]
  },
  {
   "cell_type": "code",
   "execution_count": 87,
   "metadata": {},
   "outputs": [
    {
     "name": "stdout",
     "output_type": "stream",
     "text": [
      "33.2\n"
     ]
    }
   ],
   "source": [
    "def avg(items):\n",
    "    return sum(items)/len(items)\n",
    "#need lists for sum function, so [] are used in parameter\n",
    "print(avg([30, 35, 36, 32, 33]))"
   ]
  },
  {
   "cell_type": "code",
   "execution_count": 106,
   "metadata": {},
   "outputs": [
    {
     "name": "stdout",
     "output_type": "stream",
     "text": [
      "What wrestler do you want to look for? Dean Ambrose\n",
      "Dean Ambrose won 65.19607843137256%, lost 32.84313725490196%,  tied 1.9607843137254901% of his/her matches.\n",
      "Dean Ambrose is a Superstar!\n"
     ]
    }
   ],
   "source": [
    "#Activity 02: Wrestling with Functions\n",
    "import os\n",
    "import csv\n",
    "# Path to collect data from the Resources folder\n",
    "wrestlingCSV = './WWE-Data-2016.csv'\n",
    "\n",
    "# Define the function and have it accept the 'wrestlerData' as its sole parameter\n",
    "def getPercentages(wrestlerData):\n",
    "    # Find the total number of matches wrestled\n",
    "    # Find the percentage of matches won\n",
    "    # Find the percentage of matches lost\n",
    "    # Find the percentage of matches drawn\n",
    "    # Print out the wrestler's name and their percentage stats\n",
    "    total_matches = int(wrestlerData[1]) + int(wrestlerData[2]) + int(wrestlerData[3])\n",
    "    perc_won = int(wrestlerData[1])/total_matches * 100\n",
    "    perc_lost = int(wrestlerData[2])/total_matches * 100\n",
    "    perc_drawn = int(wrestlerData[3])/total_matches * 100\n",
    "    print(f\"{nameToCheck} won {perc_won}%, lost {perc_lost}%,  tied {perc_drawn}% of his/her matches.\")\n",
    "    #create a conditional that checks a wrestler's loss percentage and \n",
    "    #prints either \"Jobber\" to the screen if the number was greater than fifty \n",
    "    #or \"Superstar\" if the number was less than 50.\n",
    "    if(perc_lost < 50):\n",
    "        callout = \"Superstar\"\n",
    "    else:\n",
    "        callout = \"Jobber\"\n",
    "    print(f\"{wrestlerData[0]} is a {callout}!\")\n",
    "    return\n",
    "\n",
    "\n",
    "# Read in the CSV file\n",
    "with open(wrestlingCSV, 'r') as csvfile:\n",
    "\n",
    "    # Split the data on commas\n",
    "    csvreader = csv.reader(csvfile, delimiter=',')\n",
    "    #read in header\n",
    "    #header = next(cvsreader)\n",
    "    \n",
    "    # Prompt the user for what wrestler they would like to search for\n",
    "    nameToCheck = input(\"What wrestler do you want to look for? \")\n",
    "\n",
    "    # Loop through the data\n",
    "    for row in csvreader:\n",
    "\n",
    "        # If the wrestler's name in a row is equal to that which the user input, run the 'getPercentages()' function\n",
    "        if(nameToCheck == row[0]):\n",
    "            #calls the function\n",
    "            getPercentages(row)\n",
    "\n"
   ]
  },
  {
   "cell_type": "code",
   "execution_count": 101,
   "metadata": {},
   "outputs": [
    {
     "name": "stdout",
     "output_type": "stream",
     "text": [
      "['name,mfr,type,calories,protein,fat,sodium,fiber,carbo,sugars,potass,vitamins,shelf,weight,cups,rating']\n"
     ]
    }
   ],
   "source": [
    "print(csv_header)"
   ]
  },
  {
   "cell_type": "code",
   "execution_count": null,
   "metadata": {},
   "outputs": [],
   "source": []
  }
 ],
 "metadata": {
  "kernelspec": {
   "display_name": "Python 3",
   "language": "python",
   "name": "python3"
  },
  "language_info": {
   "codemirror_mode": {
    "name": "ipython",
    "version": 3
   },
   "file_extension": ".py",
   "mimetype": "text/x-python",
   "name": "python",
   "nbconvert_exporter": "python",
   "pygments_lexer": "ipython3",
   "version": "3.7.1"
  }
 },
 "nbformat": 4,
 "nbformat_minor": 2
}
